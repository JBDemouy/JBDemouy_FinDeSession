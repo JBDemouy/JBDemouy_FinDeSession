{
 "cells": [
  {
   "cell_type": "code",
   "execution_count": 101,
   "metadata": {},
   "outputs": [],
   "source": [
    "import pandas as pd\n",
    "pd.set_option(\"display.max_rows\", 40)"
   ]
  },
  {
   "cell_type": "code",
   "execution_count": 102,
   "metadata": {},
   "outputs": [],
   "source": [
    "big = pd.read_csv(\"twitter_bigrams1.csv\")\n",
    "tri = pd.read_csv(\"twitter_trigrams1.csv\")\n",
    "hashtag = pd.read_csv(\"twitter_hashtags1.csv\")\n",
    "uni = pd.read_csv(\"twitter_unigrams.csv\")"
   ]
  },
  {
   "cell_type": "code",
   "execution_count": 103,
   "metadata": {},
   "outputs": [],
   "source": [
    "big.columns = [\"bigrams\"]\n",
    "tri.columns = [\"trigrams\"]\n",
    "hashtag.columns = [\"hash\"]\n",
    "uni.columns = [\"unigrams\"]"
   ]
  },
  {
   "cell_type": "code",
   "execution_count": 104,
   "metadata": {},
   "outputs": [],
   "source": []
  },
  {
   "cell_type": "code",
   "execution_count": 106,
   "metadata": {},
   "outputs": [],
   "source": [
    "#big.bigrams.value_counts()\n",
    "#tri.trigrams.value_counts()\n",
    "#hashtag.hash.value_counts()\n",
    "#uni.unigrams.value_counts()"
   ]
  },
  {
   "cell_type": "code",
   "execution_count": null,
   "metadata": {},
   "outputs": [],
   "source": []
  }
 ],
 "metadata": {
  "kernelspec": {
   "display_name": "Python 3",
   "language": "python",
   "name": "python3"
  },
  "language_info": {
   "codemirror_mode": {
    "name": "ipython",
    "version": 3
   },
   "file_extension": ".py",
   "mimetype": "text/x-python",
   "name": "python",
   "nbconvert_exporter": "python",
   "pygments_lexer": "ipython3",
   "version": "3.7.1"
  }
 },
 "nbformat": 4,
 "nbformat_minor": 2
}
